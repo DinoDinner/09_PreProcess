{
 "cells": [
  {
   "attachments": {},
   "cell_type": "markdown",
   "metadata": {},
   "source": [
    "#### 03_Numpy를 사용하여 이미지 저장 시 효율 비교"
   ]
  },
  {
   "cell_type": "code",
   "execution_count": 1,
   "metadata": {},
   "outputs": [
    {
     "name": "stdout",
     "output_type": "stream",
     "text": [
      "Requirement already satisfied: numpy in /Users/park.s.w/anaconda3/envs/NN/lib/python3.9/site-packages (1.25.0)\n"
     ]
    }
   ],
   "source": [
    "# !pip install pillow"
   ]
  },
  {
   "cell_type": "code",
   "execution_count": 2,
   "metadata": {},
   "outputs": [],
   "source": [
    "import numpy as np\n",
    "from PIL import Image"
   ]
  },
  {
   "cell_type": "code",
   "execution_count": 4,
   "metadata": {},
   "outputs": [
    {
     "name": "stdout",
     "output_type": "stream",
     "text": [
      "<PIL.Image.Image image mode=L size=310x162 at 0x1080836A0>\n"
     ]
    }
   ],
   "source": [
    "# 이미지 불러오기\n",
    "img = Image.open('../99_Studyfile/Sample/cat.png').convert('L') # 그레이 스케일 변환\n",
    "print(img)"
   ]
  },
  {
   "cell_type": "code",
   "execution_count": 5,
   "metadata": {},
   "outputs": [
    {
     "name": "stdout",
     "output_type": "stream",
     "text": [
      "[[222 222 222 ... 169 169 169]\n",
      " [223 223 223 ... 168 168 168]\n",
      " [223 223 223 ... 165 165 165]\n",
      " ...\n",
      " [219 219 222 ... 235 234 234]\n",
      " [221 222 224 ... 236 236 235]\n",
      " [221 222 224 ... 236 236 235]]\n"
     ]
    }
   ],
   "source": [
    "img_array = np.array(img)\n",
    "print(img_array)"
   ]
  },
  {
   "cell_type": "code",
   "execution_count": 7,
   "metadata": {},
   "outputs": [],
   "source": [
    "np.save('../99_Studyfile/Output/pil_image.npy',img_array)"
   ]
  },
  {
   "cell_type": "code",
   "execution_count": 8,
   "metadata": {},
   "outputs": [
    {
     "name": "stdout",
     "output_type": "stream",
     "text": [
      "[[222 222 222 ... 169 169 169]\n",
      " [223 223 223 ... 168 168 168]\n",
      " [223 223 223 ... 165 165 165]\n",
      " ...\n",
      " [219 219 222 ... 235 234 234]\n",
      " [221 222 224 ... 236 236 235]\n",
      " [221 222 224 ... 236 236 235]]\n"
     ]
    }
   ],
   "source": [
    "img_array1 = np.load('../99_Studyfile/Output/pil_image.npy')\n",
    "print(img_array1)"
   ]
  },
  {
   "cell_type": "code",
   "execution_count": 11,
   "metadata": {},
   "outputs": [],
   "source": [
    "# 다시 PIL Img로 변환\n",
    "img = Image.fromarray(np.uint8(img_array1))\n",
    "img.save('../99_Studyfile/Output/image_numpy.png')"
   ]
  },
  {
   "cell_type": "code",
   "execution_count": 12,
   "metadata": {},
   "outputs": [
    {
     "name": "stdout",
     "output_type": "stream",
     "text": [
      "50348 bytes\n",
      "26813 bytes\n"
     ]
    }
   ],
   "source": [
    "import os\n",
    "np_save_size = os.path.getsize('../99_Studyfile/Output/pil_image.npy')\n",
    "\n",
    "pil_save_size = os.path.getsize('../99_Studyfile/Output/image_numpy.png')\n",
    "print(np_save_size, 'bytes')\n",
    "print(pil_save_size, 'bytes')"
   ]
  }
 ],
 "metadata": {
  "kernelspec": {
   "display_name": "Python 3",
   "language": "python",
   "name": "python3"
  },
  "language_info": {
   "codemirror_mode": {
    "name": "ipython",
    "version": 3
   },
   "file_extension": ".py",
   "mimetype": "text/x-python",
   "name": "python",
   "nbconvert_exporter": "python",
   "pygments_lexer": "ipython3",
   "version": "3.9.0"
  },
  "orig_nbformat": 4
 },
 "nbformat": 4,
 "nbformat_minor": 2
}
