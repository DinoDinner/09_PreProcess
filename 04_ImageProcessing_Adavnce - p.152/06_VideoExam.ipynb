{
 "cells": [
  {
   "attachments": {},
   "cell_type": "markdown",
   "metadata": {},
   "source": [
    "#### 06_영상 이미지 가져오기"
   ]
  },
  {
   "cell_type": "code",
   "execution_count": 1,
   "metadata": {},
   "outputs": [],
   "source": [
    "import cv2"
   ]
  },
  {
   "cell_type": "code",
   "execution_count": 3,
   "metadata": {},
   "outputs": [
    {
     "name": "stdout",
     "output_type": "stream",
     "text": [
      "<VideoCapture 0x7ff338c73d50>\n",
      "Original width and height :  1920.0 1080.0\n",
      "fps : 29.97002997002997\n",
      "fram count : 751.0\n"
     ]
    }
   ],
   "source": [
    "# 비디오 파일 읽기\n",
    "cap = cv2.VideoCapture('../99_Studyfile/02_Sample/blooms.mp4')\n",
    "\n",
    "print(cap)\n",
    "\n",
    "# 비디오 정보 가져오기\n",
    "width = cap.get(cv2.CAP_PROP_FRAME_WIDTH)\n",
    "height = cap.get(cv2.CAP_PROP_FRAME_HEIGHT)\n",
    "fps = cap.get(cv2.CAP_PROP_FPS)\n",
    "frame_count = cap.get(cv2.CAP_PROP_FRAME_COUNT)\n",
    "\n",
    "# 비디오 정보 보기\n",
    "print(f'Original width and height : ', width, height)\n",
    "print(f'fps : {fps}')\n",
    "print(f'fram count : {frame_count}')"
   ]
  }
 ],
 "metadata": {
  "kernelspec": {
   "display_name": "base",
   "language": "python",
   "name": "python3"
  },
  "language_info": {
   "codemirror_mode": {
    "name": "ipython",
    "version": 3
   },
   "file_extension": ".py",
   "mimetype": "text/x-python",
   "name": "python",
   "nbconvert_exporter": "python",
   "pygments_lexer": "ipython3",
   "version": "3.10.9"
  },
  "orig_nbformat": 4
 },
 "nbformat": 4,
 "nbformat_minor": 2
}
