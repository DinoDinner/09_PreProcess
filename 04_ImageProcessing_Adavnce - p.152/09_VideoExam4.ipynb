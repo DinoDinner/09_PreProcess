{
 "cells": [
  {
   "attachments": {},
   "cell_type": "markdown",
   "metadata": {},
   "source": [
    "#### 25FPS 기준으로 프레임 나눠서 저장"
   ]
  },
  {
   "cell_type": "code",
   "execution_count": 10,
   "metadata": {},
   "outputs": [],
   "source": [
    "import cv2\n",
    "import os"
   ]
  },
  {
   "cell_type": "code",
   "execution_count": 11,
   "metadata": {},
   "outputs": [],
   "source": [
    "# 비디오 불러오기\n",
    "cap = cv2. VideoCapture('../99_Studyfile/02_Sample/blooms.mp4')\n",
    "\n",
    "# FPS 지정\n",
    "fps = 25"
   ]
  },
  {
   "cell_type": "code",
   "execution_count": 15,
   "metadata": {},
   "outputs": [],
   "source": [
    "count = 0\n",
    "if cap.isOpened():\n",
    "    while True:\n",
    "        ret, Frame = cap.read()\n",
    "        \n",
    "        if ret:\n",
    "            if (int(cap.get(1)) % fps == 0) :\n",
    "                os.makedirs('../99_Studyfile/03_Output/Frame',exist_ok=True)\n",
    "                cv2.imwrite(\n",
    "                    f'../99_Studyfile/03_Output/Frame/image_{str(count).zfill(4)}.png',Frame\n",
    "                )\n",
    "                \n",
    "                count = count + 1\n",
    "                \n",
    "        else:\n",
    "            break\n",
    "    \n",
    "cap.release()\n",
    "cv2.destroyAllWindows()"
   ]
  }
 ],
 "metadata": {
  "kernelspec": {
   "display_name": "base",
   "language": "python",
   "name": "python3"
  },
  "language_info": {
   "codemirror_mode": {
    "name": "ipython",
    "version": 3
   },
   "file_extension": ".py",
   "mimetype": "text/x-python",
   "name": "python",
   "nbconvert_exporter": "python",
   "pygments_lexer": "ipython3",
   "version": "3.10.9"
  },
  "orig_nbformat": 4
 },
 "nbformat": 4,
 "nbformat_minor": 2
}
