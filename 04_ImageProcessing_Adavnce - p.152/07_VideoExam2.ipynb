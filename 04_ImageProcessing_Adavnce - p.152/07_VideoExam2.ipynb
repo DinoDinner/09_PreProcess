{
 "cells": [
  {
   "cell_type": "code",
   "execution_count": 1,
   "metadata": {},
   "outputs": [
    {
     "name": "stdout",
     "output_type": "stream",
     "text": [
      "<VideoCapture 0x7f78b09a37d0>\n",
      "1920.0 1080.0 29.97002997002997 751.0\n",
      "캡쳐 초기화 확인\n"
     ]
    },
    {
     "ename": "KeyboardInterrupt",
     "evalue": "",
     "output_type": "error",
     "traceback": [
      "\u001b[0;31m---------------------------------------------------------------------------\u001b[0m",
      "\u001b[0;31mKeyboardInterrupt\u001b[0m                         Traceback (most recent call last)",
      "Cell \u001b[0;32mIn[1], line 35\u001b[0m\n\u001b[1;32m     32\u001b[0m             cv2\u001b[39m.\u001b[39mimshow(\u001b[39m'\u001b[39m\u001b[39mvideo test\u001b[39m\u001b[39m'\u001b[39m, frame) \u001b[39m#화면 표시\u001b[39;00m\n\u001b[1;32m     34\u001b[0m             \u001b[39m# q 버튼을 누르면 좋료\u001b[39;00m\n\u001b[0;32m---> 35\u001b[0m             \u001b[39mif\u001b[39;00m cv2\u001b[39m.\u001b[39;49mwaitKey(\u001b[39m25\u001b[39;49m) \u001b[39m&\u001b[39m \u001b[39m0xFF\u001b[39m \u001b[39m==\u001b[39m \u001b[39mord\u001b[39m(\u001b[39m'\u001b[39m\u001b[39mq\u001b[39m\u001b[39m'\u001b[39m):\n\u001b[1;32m     36\u001b[0m                 exit()  \u001b[39m# 한번 실행되고 죽음 : 값 확인용\u001b[39;00m\n\u001b[1;32m     38\u001b[0m \u001b[39melse\u001b[39;00m:\n",
      "\u001b[0;31mKeyboardInterrupt\u001b[0m: "
     ]
    },
    {
     "ename": "",
     "evalue": "",
     "output_type": "error",
     "traceback": [
      "\u001b[1;31m현재 셀 또는 이전 셀에서 코드를 실행하는 동안 Kernel이 충돌했습니다. 셀의 코드를 검토하여 오류의 가능한 원인을 식별하세요. 자세한 내용을 보려면 <a href='https://aka.ms/vscodeJupyterKernelCrash'> 여기 </a> 를 클릭하세요. 자세한 내용은 Jupyter <a href='command:jupyter.viewOutput'>로그</a>를 참조하세요."
     ]
    }
   ],
   "source": [
    "import cv2\n",
    "\n",
    "# 비디오 파일 읽기\n",
    "cap = cv2.VideoCapture('../99_Studyfile/02_Sample/blooms.mp4')\n",
    "\n",
    "print(cap)\n",
    "\n",
    "# 비디오 정보 가져오기\n",
    "width = cap.get(cv2.CAP_PROP_FRAME_WIDTH)\n",
    "height = cap.get(cv2.CAP_PROP_FRAME_HEIGHT)\n",
    "fps = cap.get(cv2.CAP_PROP_FPS)\n",
    "frame_count = cap.get(cv2.CAP_PROP_FRAME_COUNT)\n",
    "\n",
    "# 비디오 정보 출력\n",
    "print(width, height, fps, frame_count)\n",
    "\n",
    "# 동영상 파일 읽기 예시\n",
    "if cap.isOpened():\n",
    "    print('캡쳐 초기화 확인')\n",
    "    while True:\n",
    "        ret, frame = cap.read() # 다음 프레임 일기\n",
    "        # ret : 프레임 읽기가 성공했는지를 나타내는 부울 값\n",
    "        # frame : 이미지 numpy 배열 형태 -> 픽셀 정보\n",
    "        \n",
    "        if not ret: # 프레임 읽기 실패시 루프 종료\n",
    "            break\n",
    "        if ret :\n",
    "            # 프레임 크기 조정 : 영상 크기 수정\n",
    "            frame = cv2.resize(frame, (640,480))\n",
    "            # print(frame.shape)  # (480, 640, 3)\n",
    "             \n",
    "            cv2.imshow('video test', frame) #화면 표시\n",
    "            \n",
    "            # q 버튼을 누르면 좋료\n",
    "            if cv2.waitKey(25) & 0xFF == ord('q'):\n",
    "                exit()  # 한번 실행되고 죽음 : 값 확인용\n",
    "            \n",
    "else:\n",
    "    print('캡쳐 초기화 실패')\n",
    "\n",
    "# 카메라 자원 반납\n",
    "cap.release()\n",
    "cv2.destroyAllWindows()"
   ]
  }
 ],
 "metadata": {
  "kernelspec": {
   "display_name": "base",
   "language": "python",
   "name": "python3"
  },
  "language_info": {
   "codemirror_mode": {
    "name": "ipython",
    "version": 3
   },
   "file_extension": ".py",
   "mimetype": "text/x-python",
   "name": "python",
   "nbconvert_exporter": "python",
   "pygments_lexer": "ipython3",
   "version": "3.10.9"
  },
  "orig_nbformat": 4
 },
 "nbformat": 4,
 "nbformat_minor": 2
}
