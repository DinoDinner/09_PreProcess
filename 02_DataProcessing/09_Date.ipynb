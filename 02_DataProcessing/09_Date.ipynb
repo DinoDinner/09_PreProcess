{
 "cells": [
  {
   "attachments": {},
   "cell_type": "markdown",
   "metadata": {},
   "source": [
    "#### 날짜 데이터를 여러 특성으로 분할\n",
    "- 날짜와 시간의 년 월 일 시 분에 해당하는 특성을 만들기"
   ]
  },
  {
   "cell_type": "code",
   "execution_count": 2,
   "metadata": {},
   "outputs": [],
   "source": [
    "import pandas as pd"
   ]
  },
  {
   "cell_type": "code",
   "execution_count": 3,
   "metadata": {},
   "outputs": [
    {
     "name": "stdout",
     "output_type": "stream",
     "text": [
      "        date\n",
      "0 2023-01-01\n",
      "1 2023-01-08\n",
      "2 2023-01-15\n",
      "3 2023-01-22\n",
      "4 2023-01-29\n"
     ]
    }
   ],
   "source": [
    "dateframe = pd.DataFrame()\n",
    "\n",
    "# 5개의 날짜 만들기\n",
    "dateframe['date'] = pd.date_range('1/1/2023',periods=5, freq='w')\n",
    "print(dateframe)"
   ]
  },
  {
   "attachments": {},
   "cell_type": "markdown",
   "metadata": {},
   "source": [
    "#### 년 월 일 시 분에 대한 특성 만들기"
   ]
  },
  {
   "cell_type": "code",
   "execution_count": 5,
   "metadata": {},
   "outputs": [
    {
     "name": "stdout",
     "output_type": "stream",
     "text": [
      "        date  year  month  day  hour  minute\n",
      "0 2023-01-01  2023      1    1     0       0\n",
      "1 2023-01-08  2023      1    8     0       0\n",
      "2 2023-01-15  2023      1   15     0       0\n",
      "3 2023-01-22  2023      1   22     0       0\n",
      "4 2023-01-29  2023      1   29     0       0\n"
     ]
    }
   ],
   "source": [
    "dateframe['year'] = dateframe['date'].dt.year\n",
    "dateframe['month'] = dateframe['date'].dt.month\n",
    "dateframe['day'] = dateframe['date'].dt.day\n",
    "dateframe['hour'] = dateframe['date'].dt.hour\n",
    "dateframe['minute'] = dateframe['date'].dt.minute\n",
    "print(dateframe)"
   ]
  },
  {
   "attachments": {},
   "cell_type": "markdown",
   "metadata": {},
   "source": [
    "#### 날짜 간의 차이 계산\n",
    "- 판다스의 TimeDelta 데이터 타입을 사용하면 두 지점 사이의 시간 변화를 기록한 특성을 계산"
   ]
  },
  {
   "cell_type": "code",
   "execution_count": 7,
   "metadata": {},
   "outputs": [
    {
     "name": "stdout",
     "output_type": "stream",
     "text": [
      "0   2023-01-01\n",
      "1   2023-01-04\n",
      "Name: Arrived, dtype: datetime64[ns]\n",
      "0   2023-01-01\n",
      "1   2023-01-06\n",
      "Name: Left, dtype: datetime64[ns]\n"
     ]
    }
   ],
   "source": [
    "date_frame = pd.DataFrame()\n",
    "date_frame['Arrived'] = [pd.Timestamp('01-01-2023'), pd.Timestamp('01-04-2023')] \n",
    "date_frame['Left'] = [pd.Timestamp('01-01-2023'), pd.Timestamp('01-06-2023')] \n",
    "\n",
    "print(date_frame['Arrived'])\n",
    "print(date_frame['Left'])"
   ]
  },
  {
   "cell_type": "code",
   "execution_count": 8,
   "metadata": {},
   "outputs": [
    {
     "data": {
      "text/plain": [
       "0    0\n",
       "1    2\n",
       "dtype: int64"
      ]
     },
     "execution_count": 8,
     "metadata": {},
     "output_type": "execute_result"
    }
   ],
   "source": [
    "# 특성 사이의 차이를 계산\n",
    "date_frame['Left'] - date_frame['Arrived']\n",
    "\n",
    "pd.Series(delta.days for delta in (date_frame['Left'] - date_frame['Arrived']))"
   ]
  },
  {
   "attachments": {},
   "cell_type": "markdown",
   "metadata": {},
   "source": [
    "#### 시차 특성\n",
    "- 판다스의 shift를 사용하여 n기간 만큼 차이가 나는 시차 특성을 만들기"
   ]
  },
  {
   "cell_type": "code",
   "execution_count": 9,
   "metadata": {},
   "outputs": [
    {
     "name": "stdout",
     "output_type": "stream",
     "text": [
      "       dates  stock_price  Previous_Days_Stock_Price\n",
      "0 2023-01-01          1.1                        NaN\n",
      "1 2023-01-02          2.2                        NaN\n",
      "2 2023-01-03          3.3                        NaN\n",
      "3 2023-01-04          4.4                        1.1\n",
      "4 2023-01-05          5.5                        2.2\n"
     ]
    }
   ],
   "source": [
    "date_frame_temp = pd.DataFrame()\n",
    "\n",
    "# 날짜 데이터 생성\n",
    "date_frame_temp['dates'] = pd.date_range('1/1/2023', periods=5,freq='D')\n",
    "date_frame_temp['stock_price'] = [1.1,2.2,3.3,4.4,5.5]\n",
    "\n",
    "date_frame_temp['Previous_Days_Stock_Price'] = date_frame_temp['stock_price'].shift(3)\n",
    "print(date_frame_temp)"
   ]
  },
  {
   "attachments": {},
   "cell_type": "markdown",
   "metadata": {},
   "source": [
    "#### 이동 시간 윈도 사용"
   ]
  },
  {
   "cell_type": "code",
   "execution_count": 10,
   "metadata": {},
   "outputs": [
    {
     "name": "stdout",
     "output_type": "stream",
     "text": [
      "            stock_price\n",
      "2023-01-31            1\n",
      "2023-02-28            2\n",
      "2023-03-31            3\n",
      "2023-04-30            4\n",
      "2023-05-31            5\n"
     ]
    }
   ],
   "source": [
    "time_index = pd.date_range('01/01/2023',periods=5,freq='M')\n",
    "\n",
    "date_frame01 = pd.DataFrame(index = time_index)\n",
    "date_frame01['stock_price'] = [1,2,3,4,5]\n",
    "print(date_frame01)"
   ]
  },
  {
   "cell_type": "code",
   "execution_count": 11,
   "metadata": {},
   "outputs": [
    {
     "name": "stdout",
     "output_type": "stream",
     "text": [
      "            stock_price\n",
      "2023-01-31            1\n",
      "2023-02-28            2\n",
      "2023-03-31            3\n",
      "2023-04-30            4\n",
      "2023-05-31            5\n"
     ]
    }
   ],
   "source": [
    "# 이동 평균 계산\n",
    "\n",
    "date_frame01.rolling(window=4).mean()\n",
    "date_frame01.ewm(alpha=1).mean()\n",
    "\n",
    "# alpha must satisfy: 0 < alpha <= 1\n",
    "print(date_frame01)\n"
   ]
  },
  {
   "attachments": {},
   "cell_type": "markdown",
   "metadata": {},
   "source": [
    "#### 시계열 데이터에서 누락된 값 처리"
   ]
  },
  {
   "cell_type": "code",
   "execution_count": 12,
   "metadata": {},
   "outputs": [],
   "source": [
    "import numpy as np"
   ]
  },
  {
   "cell_type": "code",
   "execution_count": 13,
   "metadata": {},
   "outputs": [
    {
     "name": "stdout",
     "output_type": "stream",
     "text": [
      "Empty DataFrame\n",
      "Columns: []\n",
      "Index: [2023-01-31 00:00:00, 2023-02-28 00:00:00, 2023-03-31 00:00:00, 2023-04-30 00:00:00, 2023-05-31 00:00:00]\n"
     ]
    }
   ],
   "source": [
    "time_index = pd.date_range('01/01/2023',periods=5, freq='M')\n",
    "date_frame02 = pd.DataFrame(index=time_index)\n",
    "\n",
    "print(date_frame02)"
   ]
  },
  {
   "cell_type": "code",
   "execution_count": 19,
   "metadata": {},
   "outputs": [
    {
     "name": "stdout",
     "output_type": "stream",
     "text": [
      "            Sales\n",
      "2023-01-31    1.0\n",
      "2023-02-28    2.0\n",
      "2023-03-31    4.0\n",
      "2023-04-30    NaN\n",
      "2023-05-31    8.0\n",
      "            Sales\n",
      "2023-01-31    1.0\n",
      "2023-02-28    2.0\n",
      "2023-03-31    NaN\n",
      "2023-04-30    6.0\n",
      "2023-05-31    8.0\n"
     ]
    }
   ],
   "source": [
    "date_frame02['Sales'] = [1.0, 2.0, np.nan, np.nan, 8.0] # 누락값 있는 특성 생성\n",
    "date_frame02.interpolate()  # 누락된 값 보간\n",
    "date_frame02.ffill()   # 앞쪽으로 채우기\n",
    "date_frame02.bfill()    # 뒤쪽으로 채우기\n",
    "date_frame02.interpolate(method='quadratic')    # 비선형의 경우 보간 방법\n",
    "print(date_frame02.interpolate(limit=1, limit_direction='forward'))\n",
    "print(date_frame02.interpolate(limit=1, limit_direction='backward'))\n",
    "\n",
    "# 결측치 개수 만큼 새서 limit를 정해주면 됨."
   ]
  }
 ],
 "metadata": {
  "kernelspec": {
   "display_name": "Python 3",
   "language": "python",
   "name": "python3"
  },
  "language_info": {
   "codemirror_mode": {
    "name": "ipython",
    "version": 3
   },
   "file_extension": ".py",
   "mimetype": "text/x-python",
   "name": "python",
   "nbconvert_exporter": "python",
   "pygments_lexer": "ipython3",
   "version": "3.10.8"
  },
  "orig_nbformat": 4
 },
 "nbformat": 4,
 "nbformat_minor": 2
}
