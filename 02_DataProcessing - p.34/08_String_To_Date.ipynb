{
 "cells": [
  {
   "attachments": {},
   "cell_type": "markdown",
   "metadata": {},
   "source": [
    "#### 문자열을 날짜로 변환"
   ]
  },
  {
   "cell_type": "code",
   "execution_count": 1,
   "metadata": {},
   "outputs": [],
   "source": [
    "import numpy as np\n",
    "import pandas as pd"
   ]
  },
  {
   "cell_type": "code",
   "execution_count": 21,
   "metadata": {},
   "outputs": [],
   "source": [
    "date_strings = np.array([\n",
    "    '03-04-2023 11:20 PM',\n",
    "    '05-04-2023 10:50 PM',\n",
    "    '07-04-2023 09:35 AM'\n",
    "                        ])"
   ]
  },
  {
   "attachments": {},
   "cell_type": "markdown",
   "metadata": {},
   "source": [
    "#### Time Stamp 객체로 변경"
   ]
  },
  {
   "cell_type": "code",
   "execution_count": 22,
   "metadata": {},
   "outputs": [
    {
     "ename": "ValueError",
     "evalue": "time data \"03-04-2023 11:20 PM\" doesn't match format \"&d-&m-%Y %I:%M %p\", at position 0. You might want to try:\n    - passing `format` if your strings have a consistent format;\n    - passing `format='ISO8601'` if your strings are all ISO8601 but not necessarily in exactly the same format;\n    - passing `format='mixed'`, and the format will be inferred for each element individually. You might want to use `dayfirst` alongside this.",
     "output_type": "error",
     "traceback": [
      "\u001b[0;31m---------------------------------------------------------------------------\u001b[0m",
      "\u001b[0;31mValueError\u001b[0m                                Traceback (most recent call last)",
      "Cell \u001b[0;32mIn[22], line 2\u001b[0m\n\u001b[1;32m      1\u001b[0m \u001b[39mfor\u001b[39;00m data \u001b[39min\u001b[39;00m date_strings :\n\u001b[0;32m----> 2\u001b[0m     temp \u001b[39m=\u001b[39m pd\u001b[39m.\u001b[39;49mto_datetime(data, \u001b[39mformat\u001b[39;49m \u001b[39m=\u001b[39;49m \u001b[39m'\u001b[39;49m\u001b[39m&d-&m-\u001b[39;49m\u001b[39m%\u001b[39;49m\u001b[39mY \u001b[39;49m\u001b[39m%\u001b[39;49m\u001b[39mI:\u001b[39;49m\u001b[39m%\u001b[39;49m\u001b[39mM \u001b[39;49m\u001b[39m%\u001b[39;49m\u001b[39mp\u001b[39;49m\u001b[39m'\u001b[39;49m)\n\u001b[1;32m      4\u001b[0m \u001b[39m#   error 매개변수 - 오류처리\u001b[39;00m\n\u001b[1;32m      5\u001b[0m \u001b[39mfor\u001b[39;00m data \u001b[39min\u001b[39;00m date_strings :\n",
      "File \u001b[0;32m/Library/Frameworks/Python.framework/Versions/3.10/lib/python3.10/site-packages/pandas/core/tools/datetimes.py:1084\u001b[0m, in \u001b[0;36mto_datetime\u001b[0;34m(arg, errors, dayfirst, yearfirst, utc, format, exact, unit, infer_datetime_format, origin, cache)\u001b[0m\n\u001b[1;32m   1082\u001b[0m         result \u001b[39m=\u001b[39m convert_listlike(argc, \u001b[39mformat\u001b[39m)\n\u001b[1;32m   1083\u001b[0m \u001b[39melse\u001b[39;00m:\n\u001b[0;32m-> 1084\u001b[0m     result \u001b[39m=\u001b[39m convert_listlike(np\u001b[39m.\u001b[39;49marray([arg]), \u001b[39mformat\u001b[39;49m)[\u001b[39m0\u001b[39m]\n\u001b[1;32m   1085\u001b[0m     \u001b[39mif\u001b[39;00m \u001b[39misinstance\u001b[39m(arg, \u001b[39mbool\u001b[39m) \u001b[39mand\u001b[39;00m \u001b[39misinstance\u001b[39m(result, np\u001b[39m.\u001b[39mbool_):\n\u001b[1;32m   1086\u001b[0m         result \u001b[39m=\u001b[39m \u001b[39mbool\u001b[39m(result)  \u001b[39m# TODO: avoid this kludge.\u001b[39;00m\n",
      "File \u001b[0;32m/Library/Frameworks/Python.framework/Versions/3.10/lib/python3.10/site-packages/pandas/core/tools/datetimes.py:453\u001b[0m, in \u001b[0;36m_convert_listlike_datetimes\u001b[0;34m(arg, format, name, utc, unit, errors, dayfirst, yearfirst, exact)\u001b[0m\n\u001b[1;32m    451\u001b[0m \u001b[39m# `format` could be inferred, or user didn't ask for mixed-format parsing.\u001b[39;00m\n\u001b[1;32m    452\u001b[0m \u001b[39mif\u001b[39;00m \u001b[39mformat\u001b[39m \u001b[39mis\u001b[39;00m \u001b[39mnot\u001b[39;00m \u001b[39mNone\u001b[39;00m \u001b[39mand\u001b[39;00m \u001b[39mformat\u001b[39m \u001b[39m!=\u001b[39m \u001b[39m\"\u001b[39m\u001b[39mmixed\u001b[39m\u001b[39m\"\u001b[39m:\n\u001b[0;32m--> 453\u001b[0m     \u001b[39mreturn\u001b[39;00m _array_strptime_with_fallback(arg, name, utc, \u001b[39mformat\u001b[39;49m, exact, errors)\n\u001b[1;32m    455\u001b[0m result, tz_parsed \u001b[39m=\u001b[39m objects_to_datetime64ns(\n\u001b[1;32m    456\u001b[0m     arg,\n\u001b[1;32m    457\u001b[0m     dayfirst\u001b[39m=\u001b[39mdayfirst,\n\u001b[0;32m   (...)\u001b[0m\n\u001b[1;32m    461\u001b[0m     allow_object\u001b[39m=\u001b[39m\u001b[39mTrue\u001b[39;00m,\n\u001b[1;32m    462\u001b[0m )\n\u001b[1;32m    464\u001b[0m \u001b[39mif\u001b[39;00m tz_parsed \u001b[39mis\u001b[39;00m \u001b[39mnot\u001b[39;00m \u001b[39mNone\u001b[39;00m:\n\u001b[1;32m    465\u001b[0m     \u001b[39m# We can take a shortcut since the datetime64 numpy array\u001b[39;00m\n\u001b[1;32m    466\u001b[0m     \u001b[39m# is in UTC\u001b[39;00m\n",
      "File \u001b[0;32m/Library/Frameworks/Python.framework/Versions/3.10/lib/python3.10/site-packages/pandas/core/tools/datetimes.py:484\u001b[0m, in \u001b[0;36m_array_strptime_with_fallback\u001b[0;34m(arg, name, utc, fmt, exact, errors)\u001b[0m\n\u001b[1;32m    473\u001b[0m \u001b[39mdef\u001b[39;00m \u001b[39m_array_strptime_with_fallback\u001b[39m(\n\u001b[1;32m    474\u001b[0m     arg,\n\u001b[1;32m    475\u001b[0m     name,\n\u001b[0;32m   (...)\u001b[0m\n\u001b[1;32m    479\u001b[0m     errors: \u001b[39mstr\u001b[39m,\n\u001b[1;32m    480\u001b[0m ) \u001b[39m-\u001b[39m\u001b[39m>\u001b[39m Index:\n\u001b[1;32m    481\u001b[0m \u001b[39m    \u001b[39m\u001b[39m\"\"\"\u001b[39;00m\n\u001b[1;32m    482\u001b[0m \u001b[39m    Call array_strptime, with fallback behavior depending on 'errors'.\u001b[39;00m\n\u001b[1;32m    483\u001b[0m \u001b[39m    \"\"\"\u001b[39;00m\n\u001b[0;32m--> 484\u001b[0m     result, timezones \u001b[39m=\u001b[39m array_strptime(arg, fmt, exact\u001b[39m=\u001b[39;49mexact, errors\u001b[39m=\u001b[39;49merrors, utc\u001b[39m=\u001b[39;49mutc)\n\u001b[1;32m    485\u001b[0m     \u001b[39mif\u001b[39;00m \u001b[39many\u001b[39m(tz \u001b[39mis\u001b[39;00m \u001b[39mnot\u001b[39;00m \u001b[39mNone\u001b[39;00m \u001b[39mfor\u001b[39;00m tz \u001b[39min\u001b[39;00m timezones):\n\u001b[1;32m    486\u001b[0m         \u001b[39mreturn\u001b[39;00m _return_parsed_timezone_results(result, timezones, utc, name)\n",
      "File \u001b[0;32m/Library/Frameworks/Python.framework/Versions/3.10/lib/python3.10/site-packages/pandas/_libs/tslibs/strptime.pyx:530\u001b[0m, in \u001b[0;36mpandas._libs.tslibs.strptime.array_strptime\u001b[0;34m()\u001b[0m\n",
      "File \u001b[0;32m/Library/Frameworks/Python.framework/Versions/3.10/lib/python3.10/site-packages/pandas/_libs/tslibs/strptime.pyx:351\u001b[0m, in \u001b[0;36mpandas._libs.tslibs.strptime.array_strptime\u001b[0;34m()\u001b[0m\n",
      "\u001b[0;31mValueError\u001b[0m: time data \"03-04-2023 11:20 PM\" doesn't match format \"&d-&m-%Y %I:%M %p\", at position 0. You might want to try:\n    - passing `format` if your strings have a consistent format;\n    - passing `format='ISO8601'` if your strings are all ISO8601 but not necessarily in exactly the same format;\n    - passing `format='mixed'`, and the format will be inferred for each element individually. You might want to use `dayfirst` alongside this."
     ]
    }
   ],
   "source": [
    "for data in date_strings :\n",
    "    temp = pd.to_datetime(data, format = '&d-&m-%Y %I:%M %p')\n",
    "    \n",
    "#   error 매개변수 - 오류처리\n",
    "for data in date_strings :\n",
    "    temp_value = pd.to_datetime(data, format='&d-&m-%Y %I:%M %p', errors='ignore')"
   ]
  },
  {
   "attachments": {},
   "cell_type": "markdown",
   "metadata": {},
   "source": [
    "#### 시간대 데이터 처리"
   ]
  },
  {
   "cell_type": "code",
   "execution_count": 23,
   "metadata": {},
   "outputs": [
    {
     "name": "stdout",
     "output_type": "stream",
     "text": [
      "2023-04-20 06:00:00\n"
     ]
    }
   ],
   "source": [
    "pd.Timestamp(\"2023-01-01 06:00:00\", tz='Europe/London')\n",
    "data_temp = pd.Timestamp(\"2023-04-20 06:00:00\")\n",
    "print(data_temp)"
   ]
  },
  {
   "cell_type": "code",
   "execution_count": 25,
   "metadata": {},
   "outputs": [
    {
     "name": "stdout",
     "output_type": "stream",
     "text": [
      "2023-04-20 06:00:00+01:00\n",
      "0   2023-02-28\n",
      "1   2023-03-31\n",
      "2   2023-04-30\n",
      "dtype: datetime64[ns]\n"
     ]
    }
   ],
   "source": [
    "# 시간대를 지정\n",
    "date_in_london = data_temp.tz_localize(\"Europe/London\")\n",
    "print(date_in_london)\n",
    "\n",
    "date_in_london.tz_convert('Africa/Abidjan') # 시간대 변환\n",
    "\n",
    "# 세 개의 날짜를 만들기\n",
    "dates_temp = pd.Series(pd.date_range('2/2/2023',periods=3, freq='M'))\n",
    "temp = dates_temp.dt.tz_localize('Africa/Abidjan')\n",
    "print(dates_temp)"
   ]
  },
  {
   "attachments": {},
   "cell_type": "markdown",
   "metadata": {},
   "source": [
    "#### 시간대 데이터 처리 - 01"
   ]
  },
  {
   "cell_type": "code",
   "execution_count": 26,
   "metadata": {},
   "outputs": [
    {
     "data": {
      "text/plain": [
       "['America/Maceio', 'America/Managua']"
      ]
     },
     "execution_count": 26,
     "metadata": {},
     "output_type": "execute_result"
    }
   ],
   "source": [
    "import pytz\n",
    "from pytz import all_timezones\n",
    "all_timezones[150:152]"
   ]
  },
  {
   "cell_type": "code",
   "execution_count": 28,
   "metadata": {},
   "outputs": [
    {
     "data": {
      "text/plain": [
       "0   2023-02-28 00:00:00+09:00\n",
       "1   2023-03-31 00:00:00+09:00\n",
       "2   2023-04-30 00:00:00+09:00\n",
       "dtype: datetime64[ns, tzfile('/usr/share/zoneinfo/Asia/Seoul')]"
      ]
     },
     "execution_count": 28,
     "metadata": {},
     "output_type": "execute_result"
    }
   ],
   "source": [
    "dates_temp.dt.tz_localize(\"dateutil/Asia/Seoul\")"
   ]
  },
  {
   "cell_type": "code",
   "execution_count": 29,
   "metadata": {},
   "outputs": [
    {
     "name": "stdout",
     "output_type": "stream",
     "text": [
      "0   2023-02-28 00:00:00+09:00\n",
      "1   2023-03-31 00:00:00+09:00\n",
      "2   2023-04-30 00:00:00+09:00\n",
      "dtype: datetime64[ns, Asia/Seoul]\n"
     ]
    }
   ],
   "source": [
    "tz_temp = pytz.timezone('Asia/Seoul')\n",
    "temp_01 = dates_temp.dt.tz_localize(tz_temp)\n",
    "print(temp_01)"
   ]
  },
  {
   "attachments": {},
   "cell_type": "markdown",
   "metadata": {},
   "source": [
    "#### 날짜와 시간 선택하기"
   ]
  },
  {
   "cell_type": "code",
   "execution_count": 31,
   "metadata": {},
   "outputs": [
    {
     "name": "stdout",
     "output_type": "stream",
     "text": [
      "Empty DataFrame\n",
      "Columns: []\n",
      "Index: []\n",
      "                   date\n",
      "0   2023-01-01 00:00:00\n",
      "1   2023-01-01 01:00:00\n",
      "2   2023-01-01 02:00:00\n",
      "3   2023-01-01 03:00:00\n",
      "4   2023-01-01 04:00:00\n",
      "..                  ...\n",
      "995 2023-02-11 11:00:00\n",
      "996 2023-02-11 12:00:00\n",
      "997 2023-02-11 13:00:00\n",
      "998 2023-02-11 14:00:00\n",
      "999 2023-02-11 15:00:00\n",
      "\n",
      "[1000 rows x 1 columns]\n"
     ]
    }
   ],
   "source": [
    "dateframe = pd.DataFrame()\n",
    "print(dateframe)\n",
    "\n",
    "dateframe['date'] = pd.date_range('1/1/2023', periods=1000, freq='H')\n",
    "print(dateframe)"
   ]
  },
  {
   "cell_type": "code",
   "execution_count": 33,
   "metadata": {},
   "outputs": [
    {
     "ename": "KeyError",
     "evalue": "\"None of [Index([0, 0, 0, 0, 0, 0, 0, 0, 0, 0,\\n       ...\\n       0, 0, 0, 0, 0, 0, 0, 0, 0, 0],\\n      dtype='int8', length=1000)] are in the [columns]\"",
     "output_type": "error",
     "traceback": [
      "\u001b[0;31m---------------------------------------------------------------------------\u001b[0m",
      "\u001b[0;31mKeyError\u001b[0m                                  Traceback (most recent call last)",
      "Cell \u001b[0;32mIn[33], line 2\u001b[0m\n\u001b[1;32m      1\u001b[0m \u001b[39m# 두 datetime 사이의 샘플을 선택합니다.\u001b[39;00m\n\u001b[0;32m----> 2\u001b[0m dateframe[\n\u001b[1;32m      3\u001b[0m     (dateframe[\u001b[39m'\u001b[39;49m\u001b[39mdate\u001b[39;49m\u001b[39m'\u001b[39;49m] \u001b[39m>\u001b[39;49m \u001b[39m'\u001b[39;49m\u001b[39m2023-1-1 01:00:00\u001b[39;49m\u001b[39m'\u001b[39;49m)\u001b[39m%\u001b[39;49m\n\u001b[1;32m      4\u001b[0m     (dateframe[\u001b[39m'\u001b[39;49m\u001b[39mdate\u001b[39;49m\u001b[39m'\u001b[39;49m] \u001b[39m<\u001b[39;49m\u001b[39m=\u001b[39;49m \u001b[39m'\u001b[39;49m\u001b[39m2023-1-1 04:00:00\u001b[39;49m\u001b[39m'\u001b[39;49m)\n\u001b[1;32m      5\u001b[0m           ]\n\u001b[1;32m      7\u001b[0m \u001b[39m# 새로운 datetime을 만듭니다.\u001b[39;00m\n\u001b[1;32m      8\u001b[0m dateframe \u001b[39m=\u001b[39m dateframe\u001b[39m.\u001b[39mset_index(dateframe [\u001b[39m'\u001b[39m\u001b[39mdate\u001b[39m\u001b[39m'\u001b[39m])\n",
      "File \u001b[0;32m/Library/Frameworks/Python.framework/Versions/3.10/lib/python3.10/site-packages/pandas/core/frame.py:3767\u001b[0m, in \u001b[0;36mDataFrame.__getitem__\u001b[0;34m(self, key)\u001b[0m\n\u001b[1;32m   3765\u001b[0m     \u001b[39mif\u001b[39;00m is_iterator(key):\n\u001b[1;32m   3766\u001b[0m         key \u001b[39m=\u001b[39m \u001b[39mlist\u001b[39m(key)\n\u001b[0;32m-> 3767\u001b[0m     indexer \u001b[39m=\u001b[39m \u001b[39mself\u001b[39;49m\u001b[39m.\u001b[39;49mcolumns\u001b[39m.\u001b[39;49m_get_indexer_strict(key, \u001b[39m\"\u001b[39;49m\u001b[39mcolumns\u001b[39;49m\u001b[39m\"\u001b[39;49m)[\u001b[39m1\u001b[39m]\n\u001b[1;32m   3769\u001b[0m \u001b[39m# take() does not accept boolean indexers\u001b[39;00m\n\u001b[1;32m   3770\u001b[0m \u001b[39mif\u001b[39;00m \u001b[39mgetattr\u001b[39m(indexer, \u001b[39m\"\u001b[39m\u001b[39mdtype\u001b[39m\u001b[39m\"\u001b[39m, \u001b[39mNone\u001b[39;00m) \u001b[39m==\u001b[39m \u001b[39mbool\u001b[39m:\n",
      "File \u001b[0;32m/Library/Frameworks/Python.framework/Versions/3.10/lib/python3.10/site-packages/pandas/core/indexes/base.py:5876\u001b[0m, in \u001b[0;36mIndex._get_indexer_strict\u001b[0;34m(self, key, axis_name)\u001b[0m\n\u001b[1;32m   5873\u001b[0m \u001b[39melse\u001b[39;00m:\n\u001b[1;32m   5874\u001b[0m     keyarr, indexer, new_indexer \u001b[39m=\u001b[39m \u001b[39mself\u001b[39m\u001b[39m.\u001b[39m_reindex_non_unique(keyarr)\n\u001b[0;32m-> 5876\u001b[0m \u001b[39mself\u001b[39;49m\u001b[39m.\u001b[39;49m_raise_if_missing(keyarr, indexer, axis_name)\n\u001b[1;32m   5878\u001b[0m keyarr \u001b[39m=\u001b[39m \u001b[39mself\u001b[39m\u001b[39m.\u001b[39mtake(indexer)\n\u001b[1;32m   5879\u001b[0m \u001b[39mif\u001b[39;00m \u001b[39misinstance\u001b[39m(key, Index):\n\u001b[1;32m   5880\u001b[0m     \u001b[39m# GH 42790 - Preserve name from an Index\u001b[39;00m\n",
      "File \u001b[0;32m/Library/Frameworks/Python.framework/Versions/3.10/lib/python3.10/site-packages/pandas/core/indexes/base.py:5935\u001b[0m, in \u001b[0;36mIndex._raise_if_missing\u001b[0;34m(self, key, indexer, axis_name)\u001b[0m\n\u001b[1;32m   5933\u001b[0m     \u001b[39mif\u001b[39;00m use_interval_msg:\n\u001b[1;32m   5934\u001b[0m         key \u001b[39m=\u001b[39m \u001b[39mlist\u001b[39m(key)\n\u001b[0;32m-> 5935\u001b[0m     \u001b[39mraise\u001b[39;00m \u001b[39mKeyError\u001b[39;00m(\u001b[39mf\u001b[39m\u001b[39m\"\u001b[39m\u001b[39mNone of [\u001b[39m\u001b[39m{\u001b[39;00mkey\u001b[39m}\u001b[39;00m\u001b[39m] are in the [\u001b[39m\u001b[39m{\u001b[39;00maxis_name\u001b[39m}\u001b[39;00m\u001b[39m]\u001b[39m\u001b[39m\"\u001b[39m)\n\u001b[1;32m   5937\u001b[0m not_found \u001b[39m=\u001b[39m \u001b[39mlist\u001b[39m(ensure_index(key)[missing_mask\u001b[39m.\u001b[39mnonzero()[\u001b[39m0\u001b[39m]]\u001b[39m.\u001b[39munique())\n\u001b[1;32m   5938\u001b[0m \u001b[39mraise\u001b[39;00m \u001b[39mKeyError\u001b[39;00m(\u001b[39mf\u001b[39m\u001b[39m\"\u001b[39m\u001b[39m{\u001b[39;00mnot_found\u001b[39m}\u001b[39;00m\u001b[39m not in index\u001b[39m\u001b[39m\"\u001b[39m)\n",
      "\u001b[0;31mKeyError\u001b[0m: \"None of [Index([0, 0, 0, 0, 0, 0, 0, 0, 0, 0,\\n       ...\\n       0, 0, 0, 0, 0, 0, 0, 0, 0, 0],\\n      dtype='int8', length=1000)] are in the [columns]\""
     ]
    }
   ],
   "source": [
    "# 두 datetime 사이의 샘플을 선택합니다.\n",
    "dateframe[\n",
    "    (dateframe['date'] > '2023-1-1 01:00:00')%\n",
    "    (dateframe['date'] <= '2023-1-1 04:00:00')\n",
    "          ]\n",
    "\n",
    "# 새로운 datetime을 만듭니다.\n",
    "dateframe = dateframe.set_index(dateframe['date'])\n",
    "temp = dateframe.loc['2023-1-1 01:00:00':'2023-1-1 04:00:00']\n",
    "print(temp)"
   ]
  },
  {
   "cell_type": "code",
   "execution_count": null,
   "metadata": {},
   "outputs": [],
   "source": []
  }
 ],
 "metadata": {
  "kernelspec": {
   "display_name": "Python 3",
   "language": "python",
   "name": "python3"
  },
  "language_info": {
   "codemirror_mode": {
    "name": "ipython",
    "version": 3
   },
   "file_extension": ".py",
   "mimetype": "text/x-python",
   "name": "python",
   "nbconvert_exporter": "python",
   "pygments_lexer": "ipython3",
   "version": "3.10.8"
  },
  "orig_nbformat": 4
 },
 "nbformat": 4,
 "nbformat_minor": 2
}
