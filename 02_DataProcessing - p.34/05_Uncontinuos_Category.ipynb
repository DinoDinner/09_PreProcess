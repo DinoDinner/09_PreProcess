{
 "cells": [
  {
   "attachments": {},
   "cell_type": "markdown",
   "metadata": {},
   "source": [
    "#### 05_순서가 없는 범주형 데이터 처리"
   ]
  },
  {
   "cell_type": "code",
   "execution_count": 1,
   "metadata": {},
   "outputs": [],
   "source": [
    "import numpy as np\n",
    "from sklearn.preprocessing import LabelBinarizer, MultiLabelBinarizer"
   ]
  },
  {
   "attachments": {},
   "cell_type": "markdown",
   "metadata": {},
   "source": [
    "#### 단일 클래스 특성에 대한 처리 : One-Hot Encoder"
   ]
  },
  {
   "cell_type": "code",
   "execution_count": 9,
   "metadata": {},
   "outputs": [
    {
     "name": "stdout",
     "output_type": "stream",
     "text": [
      "[['가나다라']\n",
      " ['가다나라']\n",
      " ['아바하라']\n",
      " ['카나다사']]\n",
      "['가나다라' '가다나라' '아바하라' '카나다사']\n"
     ]
    }
   ],
   "source": [
    "features =np.array((\n",
    "    ['가나다라'],\n",
    "    ['가다나라'],\n",
    "    ['아바하라'],\n",
    "    ['카나다사']\n",
    "                    ))\n",
    "\n",
    "print(features)\n",
    "\n",
    "# 원-핫 인코더 생성\n",
    "one_hot = LabelBinarizer()\n",
    "one_hot.fit_transform(features) # 특성을 원-핫 인코딩 변환\n",
    "\n",
    "# 특성 클래스 확인\n",
    "print(one_hot.classes_)"
   ]
  },
  {
   "attachments": {},
   "cell_type": "markdown",
   "metadata": {},
   "source": [
    "#### 다중 클래스 특성에 대한 처리 : One-Hot Encoder MultiClass"
   ]
  },
  {
   "cell_type": "code",
   "execution_count": 10,
   "metadata": {},
   "outputs": [
    {
     "name": "stdout",
     "output_type": "stream",
     "text": [
      "[('가나다라마', '아자바하나'), ('자다라타다', '하다자바카'), ('가나다라마', '가바나사차'), ('타아자바마', '사파하자나'), ('나하다라파', '바카타라자')]\n",
      "['가나다라마' '가바나사차' '나하다라파' '바카타라자' '사파하자나' '아자바하나' '자다라타다' '타아자바마' '하다자바카']\n"
     ]
    }
   ],
   "source": [
    "multiclass_features = [\n",
    "    ('가나다라마','아자바하나'),\n",
    "    ('자다라타다','하다자바카'),\n",
    "    ('가나다라마','가바나사차'),\n",
    "    ('타아자바마','사파하자나'),\n",
    "    ('나하다라파','바카타라자'),\n",
    "                       ]\n",
    "\n",
    "print(multiclass_features)\n",
    "\n",
    "one_hot_multi = MultiLabelBinarizer()\n",
    "one_hot_multi.fit_transform(multiclass_features)\n",
    "print(one_hot_multi.classes_)"
   ]
  },
  {
   "attachments": {},
   "cell_type": "markdown",
   "metadata": {},
   "source": [
    "#### 문자열 타깃 데이터 원-핫 인코딩"
   ]
  },
  {
   "cell_type": "code",
   "execution_count": 10,
   "metadata": {},
   "outputs": [
    {
     "name": "stdout",
     "output_type": "stream",
     "text": [
      "one hot encoder data >>  [array(['노래', '안녕', '저녁', '점심'], dtype=object), array([1, 2, 3, 4], dtype=object)]\n"
     ]
    },
    {
     "name": "stderr",
     "output_type": "stream",
     "text": [
      "/Users/park.s.w/anaconda3/lib/python3.10/site-packages/sklearn/preprocessing/_encoders.py:828: FutureWarning: `sparse` was renamed to `sparse_output` in version 1.2 and will be removed in 1.4. `sparse_output` is ignored unless you leave `sparse` to its default value.\n",
      "  warnings.warn(\n"
     ]
    }
   ],
   "source": [
    "from sklearn.preprocessing import OneHotEncoder\n",
    "\n",
    "str_features = ([\n",
    "        ['안녕', 1],\n",
    "        ['저녁', 2],\n",
    "        ['안녕', 1],\n",
    "        ['점심', 3],\n",
    "        ['노래', 4],\n",
    "     ])\n",
    "\n",
    "one_hot_encoder = OneHotEncoder(sparse=False)\n",
    "\n",
    "# One Hot encoder -> 입력 특성 배열을 모두 범주형으로 인식\n",
    "one_hot_encoder.fit_transform(str_features)\n",
    "one_hot_encoder_data = one_hot_encoder.categories_  # categories_ 속성으로 클래스를 확인 가능\n",
    "print('one hot encoder data >> ', one_hot_encoder_data)"
   ]
  }
 ],
 "metadata": {
  "kernelspec": {
   "display_name": "Python 3",
   "language": "python",
   "name": "python3"
  },
  "language_info": {
   "codemirror_mode": {
    "name": "ipython",
    "version": 3
   },
   "file_extension": ".py",
   "mimetype": "text/x-python",
   "name": "python",
   "nbconvert_exporter": "python",
   "pygments_lexer": "ipython3",
   "version": "3.10.9"
  },
  "orig_nbformat": 4
 },
 "nbformat": 4,
 "nbformat_minor": 2
}
