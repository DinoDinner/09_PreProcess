{
 "cells": [
  {
   "attachments": {},
   "cell_type": "markdown",
   "metadata": {},
   "source": [
    "#### 06_순서가 있는 범주형 특성 인코딩\n",
    "- 순서가 있는 클래스는 순서 개념을 가진 수치값으로 변환\n",
    "- 딕셔러리 사용해서 -> 특성"
   ]
  },
  {
   "cell_type": "code",
   "execution_count": 7,
   "metadata": {},
   "outputs": [],
   "source": [
    "import pandas as pd\n",
    "import numpy as np"
   ]
  },
  {
   "attachments": {},
   "cell_type": "markdown",
   "metadata": {},
   "source": [
    "##### 1-1 순서가 있는 범주형 특성 인코딩 : Scale Mapper"
   ]
  },
  {
   "cell_type": "code",
   "execution_count": 4,
   "metadata": {},
   "outputs": [
    {
     "name": "stdout",
     "output_type": "stream",
     "text": [
      "    Score\n",
      "0     Low\n",
      "1     Low\n",
      "2  Medium\n",
      "3  Medium\n",
      "4    High\n"
     ]
    }
   ],
   "source": [
    "# 특성 데이터 생성\n",
    "dataframe = pd.DataFrame({\n",
    "    'Score' : ['Low','Low','Medium','Medium','High']\n",
    "})\n",
    "\n",
    "print(dataframe)"
   ]
  },
  {
   "cell_type": "code",
   "execution_count": 5,
   "metadata": {},
   "outputs": [
    {
     "name": "stdout",
     "output_type": "stream",
     "text": [
      "{'Low': 1, 'Medium': 2, 'High': 3}\n"
     ]
    }
   ],
   "source": [
    "# 매핑 딕셔러니 생성\n",
    "scale_mapper = {\n",
    "    'Low' : 1,\n",
    "    'Medium' : 2,\n",
    "    'High' : 3,\n",
    "}\n",
    "\n",
    "print(scale_mapper)"
   ]
  },
  {
   "cell_type": "code",
   "execution_count": 6,
   "metadata": {},
   "outputs": [
    {
     "name": "stdout",
     "output_type": "stream",
     "text": [
      "0    1\n",
      "1    1\n",
      "2    2\n",
      "3    2\n",
      "4    3\n",
      "Name: Score, dtype: int64\n"
     ]
    }
   ],
   "source": [
    "data = dataframe['Score'].replace(scale_mapper)\n",
    "print(data)"
   ]
  },
  {
   "attachments": {},
   "cell_type": "markdown",
   "metadata": {},
   "source": [
    "##### 1-2 순서가 있는 범주형 특성 인코딩 : Ordinal Encoder\n"
   ]
  },
  {
   "cell_type": "code",
   "execution_count": 8,
   "metadata": {},
   "outputs": [
    {
     "name": "stdout",
     "output_type": "stream",
     "text": [
      "[array(['High', 'Low', 'Medium'], dtype='<U21'), array(['10', '3', '30'], dtype='<U21')]\n"
     ]
    }
   ],
   "source": [
    "from sklearn.preprocessing import OrdinalEncoder\n",
    "feature_array = np.array((\n",
    "    ['Low',10],\n",
    "    ['High',30],\n",
    "    ['Medium',3],\n",
    "                          ))\n",
    "\n",
    "ordinal_encoder = OrdinalEncoder()\n",
    "ordinal_encoder.fit_transform(feature_array)\n",
    "print(ordinal_encoder.categories_)"
   ]
  },
  {
   "attachments": {},
   "cell_type": "markdown",
   "metadata": {},
   "source": [
    "#### 1-3 순서가 있는 범주형 특성 인코딩 : Dict Vectorizer\n",
    "- 특성 딕셔너리 인코딩"
   ]
  },
  {
   "cell_type": "code",
   "execution_count": 9,
   "metadata": {},
   "outputs": [],
   "source": [
    "from sklearn.feature_extraction import DictVectorizer"
   ]
  },
  {
   "cell_type": "code",
   "execution_count": 16,
   "metadata": {},
   "outputs": [
    {
     "name": "stdout",
     "output_type": "stream",
     "text": [
      "[[4. 2. 0.]\n",
      " [3. 4. 0.]\n",
      " [0. 1. 2.]\n",
      " [0. 1. 2.]]\n",
      "['Blue' 'Red' 'Yellow']\n",
      "   Blue  Red  Yellow\n",
      "0   4.0  2.0     0.0\n",
      "1   3.0  4.0     0.0\n",
      "2   0.0  1.0     2.0\n",
      "3   0.0  1.0     2.0\n"
     ]
    }
   ],
   "source": [
    "# 딕셔너리 생성\n",
    "data_dict = [\n",
    "    {'Red' : 2, 'Blue' : 4},\n",
    "    {'Red' : 4, 'Blue' : 3},\n",
    "    {'Red' : 1, 'Yellow' : 2},\n",
    "    {'Red' : 1, 'Yellow' : 2}\n",
    "    ]\n",
    "\n",
    "dictVectorizer = DictVectorizer(sparse=False)\n",
    "\n",
    "feature_dict = dictVectorizer.fit_transform(data_dict)\n",
    "print(feature_dict)\n",
    "\n",
    "feature_dict_name = dictVectorizer.get_feature_names_out()\n",
    "print(feature_dict_name)\n",
    "\n",
    "dict_data = pd.DataFrame(feature_dict, columns=feature_dict_name)\n",
    "print(dict_data)"
   ]
  },
  {
   "attachments": {},
   "cell_type": "markdown",
   "metadata": {},
   "source": [
    "#### 02 - 범주형 데이터\n",
    "\n",
    "##### 2-1 누락된 클래스 값 대처하기 : KNN"
   ]
  },
  {
   "cell_type": "code",
   "execution_count": 17,
   "metadata": {},
   "outputs": [],
   "source": [
    "from sklearn.neighbors import KNeighborsClassifier"
   ]
  },
  {
   "cell_type": "code",
   "execution_count": 19,
   "metadata": {},
   "outputs": [
    {
     "name": "stdout",
     "output_type": "stream",
     "text": [
      "[[ 2.1   1.48]\n",
      " [ 1.19  1.33]\n",
      " [ 1.22  1.27]\n",
      " [-0.2  -1.15]]\n",
      "[0. 1. 0. 1.]\n"
     ]
    }
   ],
   "source": [
    "x = np.array([\n",
    "    [0,2.10,1.48],\n",
    "    [1,1.19,1.33],\n",
    "    [0,1.22,1.27],\n",
    "    [1,-0.20,-1.15]\n",
    "              ])\n",
    "\n",
    "x_with_nan = np.array([[np.nan, 0.87, 1.33], [np.nan, -0.67, -0.22]])\n",
    "clf =KNeighborsClassifier(3, weights='distance')\n",
    "\n",
    "print(x[:,1:])\n",
    "print(x[:,0])"
   ]
  },
  {
   "cell_type": "code",
   "execution_count": 20,
   "metadata": {},
   "outputs": [
    {
     "name": "stdout",
     "output_type": "stream",
     "text": [
      "[[ 0.    0.87  1.33]\n",
      " [ 1.   -0.67 -0.22]\n",
      " [ 0.    2.1   1.48]\n",
      " [ 1.    1.19  1.33]\n",
      " [ 0.    1.22  1.27]\n",
      " [ 1.   -0.2  -1.15]]\n"
     ]
    }
   ],
   "source": [
    "train_model = clf.fit(x[:,1:],x[:,0])\n",
    "imputer_values = train_model.predict(x_with_nan[:,1:])  # 누락된 값의 클래스 예측\n",
    "\n",
    "x_with_imputer = np.hstack((imputer_values.reshape(-1,1),x_with_nan[:,1:]))\n",
    "data = np.vstack((x_with_imputer, x))   # 두 특성 행렬을 연결\n",
    "print(data)"
   ]
  },
  {
   "attachments": {},
   "cell_type": "markdown",
   "metadata": {},
   "source": [
    "#### 2-2 누락된 클래스 값 대처하기 : SimpleImputer\n",
    "- 누락된 값을 특성에서 가장 자주 등장하는 값으로 채우기"
   ]
  },
  {
   "cell_type": "code",
   "execution_count": 21,
   "metadata": {},
   "outputs": [],
   "source": [
    "from sklearn.impute import SimpleImputer"
   ]
  },
  {
   "cell_type": "code",
   "execution_count": 23,
   "metadata": {},
   "outputs": [
    {
     "name": "stdout",
     "output_type": "stream",
     "text": [
      "전\n",
      "[[  nan  0.87  1.33]\n",
      " [  nan -0.67 -0.22]\n",
      " [ 0.    2.1   1.48]\n",
      " [ 1.    1.19  1.33]\n",
      " [ 0.    1.22  1.27]\n",
      " [ 1.   -0.2  -1.15]]\n",
      "후\n",
      "[[ 0.    0.87  1.33]\n",
      " [ 0.   -0.67 -0.22]\n",
      " [ 0.    2.1   1.48]\n",
      " [ 1.    1.19  1.33]\n",
      " [ 0.    1.22  1.27]\n",
      " [ 1.   -0.2  -1.15]]\n"
     ]
    }
   ],
   "source": [
    "x_complete = np.vstack((x_with_nan, x))\n",
    "print('전')\n",
    "print(x_complete)\n",
    "\n",
    "impute = SimpleImputer(strategy='most_frequent')\n",
    "data_impute = impute.fit_transform(x_complete)\n",
    "\n",
    "print('후')\n",
    "print(data_impute)"
   ]
  }
 ],
 "metadata": {
  "kernelspec": {
   "display_name": "Python 3",
   "language": "python",
   "name": "python3"
  },
  "language_info": {
   "codemirror_mode": {
    "name": "ipython",
    "version": 3
   },
   "file_extension": ".py",
   "mimetype": "text/x-python",
   "name": "python",
   "nbconvert_exporter": "python",
   "pygments_lexer": "ipython3",
   "version": "3.10.8"
  },
  "orig_nbformat": 4
 },
 "nbformat": 4,
 "nbformat_minor": 2
}
