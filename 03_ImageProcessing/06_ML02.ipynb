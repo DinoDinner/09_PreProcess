{
 "cells": [
  {
   "attachments": {},
   "cell_type": "markdown",
   "metadata": {},
   "source": [
    "#### 평균 색을 특성으로 인코딩"
   ]
  },
  {
   "cell_type": "code",
   "execution_count": 1,
   "metadata": {},
   "outputs": [],
   "source": [
    "import cv2\n",
    "import matplotlib.pyplot as plt"
   ]
  },
  {
   "cell_type": "code",
   "execution_count": 2,
   "metadata": {},
   "outputs": [
    {
     "name": "stdout",
     "output_type": "stream",
     "text": [
      "(137.49121863799283, 133.2246714456392, 138.98134209478295, 0.0)\n"
     ]
    }
   ],
   "source": [
    "image_path = '../99_Studyfile/Sample/cat.png'\n",
    "\n",
    "image = cv2.imread(image_path)\n",
    "imaeg = cv2.cvtColor(image, cv2.COLOR_RGB2BGR)\n",
    "\n",
    "# 평균색 특성 인코딩\n",
    "channels = cv2.mean(image)\n",
    "print(channels)"
   ]
  }
 ],
 "metadata": {
  "kernelspec": {
   "display_name": "base",
   "language": "python",
   "name": "python3"
  },
  "language_info": {
   "codemirror_mode": {
    "name": "ipython",
    "version": 3
   },
   "file_extension": ".py",
   "mimetype": "text/x-python",
   "name": "python",
   "nbconvert_exporter": "python",
   "pygments_lexer": "ipython3",
   "version": "3.10.9"
  },
  "orig_nbformat": 4
 },
 "nbformat": 4,
 "nbformat_minor": 2
}
